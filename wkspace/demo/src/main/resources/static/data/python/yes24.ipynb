{
 "cells": [
  {
   "cell_type": "markdown",
   "metadata": {},
   "source": [
    "### yes24 - 국내도서 새로나온 상품\n",
    "- title, author, company, price, image, summary"
   ]
  },
  {
   "cell_type": "code",
   "execution_count": 3,
   "metadata": {},
   "outputs": [],
   "source": [
    "import requests\n",
    "import pandas as pd\n",
    "from tqdm import tqdm\n",
    "from bs4 import BeautifulSoup"
   ]
  },
  {
   "cell_type": "code",
   "execution_count": 4,
   "metadata": {},
   "outputs": [],
   "source": [
    "base_url = 'https://www.yes24.com'\n",
    "main_url = '/Product/Category/NewProduct?categoryNumber=001&pageSize=24&newProductType=NEW'\n",
    "url = f'{base_url}{main_url}&pageNumber=1'\n",
    "# header = {'User-Agent': 'Mozilla/5.0 (Windows NT 10.0; Win64; x64) AppleWebKit/537.36 (KHTML, like Gecko) Chrome/130.0.0.0 Safari/537.36'}\n",
    "# result = requests.get(url, headers=header)\n",
    "result = requests.get(url)\n",
    "soup = BeautifulSoup(result.text)"
   ]
  },
  {
   "cell_type": "code",
   "execution_count": 5,
   "metadata": {},
   "outputs": [
    {
     "data": {
      "text/plain": [
       "'https://www.yes24.com/Product/Category/NewProduct?categoryNumber=001&pageSize=24&newProductType=NEW&pageNumber=1'"
      ]
     },
     "execution_count": 5,
     "metadata": {},
     "output_type": "execute_result"
    }
   ],
   "source": [
    "url"
   ]
  },
  {
   "cell_type": "code",
   "execution_count": 6,
   "metadata": {},
   "outputs": [
    {
     "data": {
      "text/plain": [
       "24"
      ]
     },
     "execution_count": 6,
     "metadata": {},
     "output_type": "execute_result"
    }
   ],
   "source": [
    "lis = soup.select('#yesNewList > li')\n",
    "len(lis)"
   ]
  },
  {
   "cell_type": "markdown",
   "metadata": {},
   "source": [
    "#### 하나의 데이터로 원하는 정보 추출"
   ]
  },
  {
   "cell_type": "code",
   "execution_count": 7,
   "metadata": {},
   "outputs": [],
   "source": [
    "li = lis[1]"
   ]
  },
  {
   "cell_type": "code",
   "execution_count": 8,
   "metadata": {},
   "outputs": [],
   "source": [
    "# sub-page\n",
    "sub_page = li.select_one('.img_grp > a')['href']\n",
    "sub_url = f'{base_url}{sub_page}'"
   ]
  },
  {
   "cell_type": "code",
   "execution_count": 9,
   "metadata": {},
   "outputs": [],
   "source": [
    "res = requests.get(sub_url)\n",
    "book_soup = BeautifulSoup(res.text)"
   ]
  },
  {
   "cell_type": "code",
   "execution_count": 10,
   "metadata": {},
   "outputs": [
    {
     "data": {
      "text/plain": [
       "'https://image.yes24.com/goods/140089741/XL'"
      ]
     },
     "execution_count": 10,
     "metadata": {},
     "output_type": "execute_result"
    }
   ],
   "source": [
    "# image\n",
    "imageUrl = book_soup.select_one('img.gImg')['src']\n",
    "imageUrl"
   ]
  },
  {
   "cell_type": "code",
   "execution_count": 11,
   "metadata": {},
   "outputs": [
    {
     "data": {
      "text/plain": [
       "'불교윤리학 입문'"
      ]
     },
     "execution_count": 11,
     "metadata": {},
     "output_type": "execute_result"
    }
   ],
   "source": [
    "# title\n",
    "title = book_soup.select_one('h2.gd_name').text.strip()\n",
    "title"
   ]
  },
  {
   "cell_type": "code",
   "execution_count": 12,
   "metadata": {},
   "outputs": [
    {
     "data": {
      "text/plain": [
       "'데미언 키온 저/조은수 역'"
      ]
     },
     "execution_count": 12,
     "metadata": {},
     "output_type": "execute_result"
    }
   ],
   "source": [
    "# author\n",
    "author = book_soup.select_one('.gd_auth').text.strip()\n",
    "author"
   ]
  },
  {
   "cell_type": "code",
   "execution_count": 13,
   "metadata": {},
   "outputs": [
    {
     "data": {
      "text/plain": [
       "'운주사'"
      ]
     },
     "execution_count": 13,
     "metadata": {},
     "output_type": "execute_result"
    }
   ],
   "source": [
    "# company\n",
    "company = book_soup.select_one('.gd_pub').text.strip()\n",
    "company"
   ]
  },
  {
   "cell_type": "code",
   "execution_count": 14,
   "metadata": {},
   "outputs": [
    {
     "data": {
      "text/plain": [
       "15000"
      ]
     },
     "execution_count": 14,
     "metadata": {},
     "output_type": "execute_result"
    }
   ],
   "source": [
    "# price\n",
    "price = book_soup.select_one('em.yes_m').text.strip()\n",
    "price = int(price[:-1].replace(',', ''))\n",
    "price"
   ]
  },
  {
   "cell_type": "code",
   "execution_count": 15,
   "metadata": {},
   "outputs": [
    {
     "data": {
      "text/plain": [
       "'불교는 우리 시대가 대면하고 있는 다양한 도덕적 문제들에 대해 어떻게 접근하는가? 전통적 주제부터 최신 주제까지, 불교윤리학의 다양한 주제들을 명료한 설명과 풍부한 예시로 풀어낸 최고의 입문서!'"
      ]
     },
     "execution_count": 15,
     "metadata": {},
     "output_type": "execute_result"
    }
   ],
   "source": [
    "# summary\n",
    "summary = book_soup.select_one('.txtContentText').get_text(separator='\\n').strip()\n",
    "summary"
   ]
  },
  {
   "cell_type": "markdown",
   "metadata": {},
   "source": [
    "#### 한 페이지에 있는 데이터\n",
    "- 요약이 없는 데이터는 수집하지 않음"
   ]
  },
  {
   "cell_type": "code",
   "execution_count": 16,
   "metadata": {},
   "outputs": [
    {
     "name": "stdout",
     "output_type": "stream",
     "text": [
      "0  1  2  3  4  5  6  7  8  9  10  11  12  13  14  15  16  17  18  19  20  21  22  23  "
     ]
    }
   ],
   "source": [
    "lines = []\n",
    "for index, li in enumerate(lis):\n",
    "    print(index, end='  ')\n",
    "    try:\n",
    "        sub_page = li.select_one('.img_grp > a')['href']\n",
    "        sub_url = f'{base_url}{sub_page}'\n",
    "        res = requests.get(sub_url)\n",
    "        book_soup = BeautifulSoup(res.text)\n",
    "        imageUrl = book_soup.select_one('img.gImg')['src']\n",
    "        title = book_soup.select_one('h2.gd_name').text.strip()\n",
    "        author = book_soup.select_one('.gd_auth').text.strip()\n",
    "        company = book_soup.select_one('.gd_pub').text.strip()\n",
    "        price = book_soup.select_one('em.yes_m').text.strip()\n",
    "        price = int(price[:-1].replace(',', ''))\n",
    "        summary = book_soup.select_one('.txtContentText').get_text(separator='\\n').strip()\n",
    "        # summary_tag = book_soup.select_one('.txtContentText')\n",
    "        # summary = summary_tag.get_text(separator='\\n').strip() if summary_tag is not None else ''\n",
    "        lines.append({\n",
    "            'title':title, 'author':author, 'company':company, 'price':price, 'imageUrl':imageUrl, 'summary':summary\n",
    "        })\n",
    "    except:\n",
    "        continue"
   ]
  },
  {
   "cell_type": "code",
   "execution_count": 17,
   "metadata": {},
   "outputs": [
    {
     "data": {
      "text/plain": [
       "24"
      ]
     },
     "execution_count": 17,
     "metadata": {},
     "output_type": "execute_result"
    }
   ],
   "source": [
    "df = pd.DataFrame(lines)\n",
    "len(df)"
   ]
  },
  {
   "cell_type": "markdown",
   "metadata": {},
   "source": [
    "#### 모든 페이지에 있는 데이터"
   ]
  },
  {
   "cell_type": "code",
   "execution_count": 18,
   "metadata": {},
   "outputs": [
    {
     "name": "stderr",
     "output_type": "stream",
     "text": [
      "  0%|          | 0/659 [00:00<?, ?it/s]"
     ]
    },
    {
     "name": "stderr",
     "output_type": "stream",
     "text": [
      "100%|██████████| 659/659 [1:56:01<00:00, 10.56s/it]  \n"
     ]
    }
   ],
   "source": [
    "lines = []\n",
    "for page in tqdm(range(1, 660)):               # 총 페이지가 659 페이지\n",
    "    url = f'{base_url}{main_url}&pageNumber={page}'\n",
    "    result = requests.get(url)\n",
    "    soup = BeautifulSoup(result.text)\n",
    "    lis = soup.select('#yesNewList > li')\n",
    "    for li in lis:\n",
    "        try:\n",
    "            sub_page = li.select_one('.img_grp > a')['href']\n",
    "            sub_url = f'{base_url}{sub_page}'\n",
    "            res = requests.get(sub_url)\n",
    "            book_soup = BeautifulSoup(res.text)\n",
    "            imageUrl = book_soup.select_one('img.gImg')['src']\n",
    "            title = book_soup.select_one('h2.gd_name').text.strip()\n",
    "            author = book_soup.select_one('.gd_auth').text.strip()\n",
    "            company = book_soup.select_one('.gd_pub').text.strip()\n",
    "            price = book_soup.select_one('em.yes_m').text.strip()\n",
    "            price = int(price[:-1].replace(',', ''))\n",
    "            summary = book_soup.select_one('.txtContentText').get_text(separator='\\n').strip()\n",
    "            lines.append({\n",
    "                'title':title, 'author':author, 'company':company, 'price':price, 'imageUrl':imageUrl, 'summary':summary\n",
    "            })\n",
    "        except:\n",
    "            continue"
   ]
  },
  {
   "cell_type": "code",
   "execution_count": 19,
   "metadata": {},
   "outputs": [
    {
     "data": {
      "text/plain": [
       "12576"
      ]
     },
     "execution_count": 19,
     "metadata": {},
     "output_type": "execute_result"
    }
   ],
   "source": [
    "df = pd.DataFrame(lines)\n",
    "len(df)"
   ]
  },
  {
   "cell_type": "code",
   "execution_count": 20,
   "metadata": {},
   "outputs": [
    {
     "data": {
      "text/plain": [
       "12576"
      ]
     },
     "execution_count": 20,
     "metadata": {},
     "output_type": "execute_result"
    }
   ],
   "source": [
    "df.drop_duplicates(inplace=True)\n",
    "len(df)"
   ]
  },
  {
   "cell_type": "code",
   "execution_count": null,
   "metadata": {},
   "outputs": [],
   "source": [
    "df.to_csv('../data/yes24_국내도서_새로나온_상품.csv', index=False)"
   ]
  },
  {
   "cell_type": "code",
   "execution_count": null,
   "metadata": {},
   "outputs": [],
   "source": []
  }
 ],
 "metadata": {
  "kernelspec": {
   "display_name": "base",
   "language": "python",
   "name": "python3"
  },
  "language_info": {
   "codemirror_mode": {
    "name": "ipython",
    "version": 3
   },
   "file_extension": ".py",
   "mimetype": "text/x-python",
   "name": "python",
   "nbconvert_exporter": "python",
   "pygments_lexer": "ipython3",
   "version": "3.12.7"
  }
 },
 "nbformat": 4,
 "nbformat_minor": 2
}
