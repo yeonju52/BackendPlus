{
 "cells": [
  {
   "cell_type": "markdown",
   "metadata": {
    "id": "NSoRsZqQsbQQ"
   },
   "source": [
    "## Visit Seoul Net"
   ]
  },
  {
   "cell_type": "code",
   "execution_count": 2,
   "metadata": {
    "id": "TFLW61kfsfZV"
   },
   "outputs": [],
   "source": [
    "import json\n",
    "import requests\n",
    "import pandas as pd\n",
    "from tqdm import tqdm\n",
    "from bs4 import BeautifulSoup"
   ]
  },
  {
   "cell_type": "code",
   "execution_count": 3,
   "metadata": {
    "id": "ExHOUdXTsrZN"
   },
   "outputs": [],
   "source": [
    "base_url = 'https://korean.visitseoul.net'\n",
    "url = f'{base_url}/restaurants?curPage=1'\n",
    "result = requests.get(url)\n",
    "soup = BeautifulSoup(result.text, 'html.parser')"
   ]
  },
  {
   "cell_type": "markdown",
   "metadata": {
    "id": "70x_nU854lsn"
   },
   "source": [
    "- 한개를 선택해서 데이터 추출"
   ]
  },
  {
   "cell_type": "code",
   "execution_count": 5,
   "metadata": {
    "colab": {
     "base_uri": "https://localhost:8080/"
    },
    "id": "jWHOItZqtb62",
    "outputId": "cfea0509-051f-40e2-b1a2-0f6b980846ed"
   },
   "outputs": [
    {
     "data": {
      "text/plain": [
       "8"
      ]
     },
     "execution_count": 5,
     "metadata": {},
     "output_type": "execute_result"
    }
   ],
   "source": [
    "lis = soup.select('li.item')\n",
    "len(lis)"
   ]
  },
  {
   "cell_type": "code",
   "execution_count": 6,
   "metadata": {
    "colab": {
     "base_uri": "https://localhost:8080/",
     "height": 35
    },
    "id": "ftKXt2l_t7K0",
    "outputId": "9a480f0f-75c1-4e2e-b799-76899e57c7b8"
   },
   "outputs": [
    {
     "data": {
      "text/plain": [
       "'/restaurants/통인시장/KOP000281'"
      ]
     },
     "execution_count": 6,
     "metadata": {},
     "output_type": "execute_result"
    }
   ],
   "source": [
    "li = lis[0]\n",
    "href = li.select_one('a')['href']\n",
    "href"
   ]
  },
  {
   "cell_type": "code",
   "execution_count": 7,
   "metadata": {},
   "outputs": [
    {
     "data": {
      "text/plain": [
       "'/data/MEDIA/20240516/0516153423441-1963d7e37b9340c4bf45be6ef00a1580.jpg'"
      ]
     },
     "execution_count": 7,
     "metadata": {},
     "output_type": "execute_result"
    }
   ],
   "source": [
    "img_src = li.select_one('.thumb > img')['src']\n",
    "img_src"
   ]
  },
  {
   "cell_type": "code",
   "execution_count": 8,
   "metadata": {
    "id": "99iQMiRquW6s"
   },
   "outputs": [],
   "source": [
    "sub_url = f'{base_url}{href}'\n",
    "sub_res = requests.get(sub_url)\n",
    "sub_soup = BeautifulSoup(sub_res.text, 'html.parser')"
   ]
  },
  {
   "cell_type": "code",
   "execution_count": 9,
   "metadata": {
    "colab": {
     "base_uri": "https://localhost:8080/",
     "height": 35
    },
    "id": "9jpUAx0QvVIk",
    "outputId": "2fc96161-006c-4d22-9127-7403e220555d"
   },
   "outputs": [
    {
     "data": {
      "text/plain": [
       "'통인시장'"
      ]
     },
     "execution_count": 9,
     "metadata": {},
     "output_type": "execute_result"
    }
   ],
   "source": [
    "name = sub_soup.select_one('.h3.textcenter').text.strip()\n",
    "name"
   ]
  },
  {
   "cell_type": "code",
   "execution_count": 10,
   "metadata": {
    "colab": {
     "base_uri": "https://localhost:8080/",
     "height": 90
    },
    "id": "d67G9crmv2LM",
    "outputId": "ab555d78-d1fc-4100-dfac-1cc7106ca5d3"
   },
   "outputs": [
    {
     "data": {
      "text/plain": [
       "'세종마을은 추사 김정희 등 조선시대 예능인들이 모이는 중심지였으며 근대에도 이상 등 문인들이 활동하던 중심지였다. 일제강점기 일본인들을 위해 만들어진 공설시장이 모태이나 6.25이후 인구증가로 시장의 필요성이 높아져 현재처럼 물건을 사고파는 시장의 형태를 갖추게 되었다.    통인시장은 상권이 활성화된 곳으로 다른 전통시장의 벤치마킹 사례로 유명하며 특히 통인시장에서 자체 제작한 엽전은 통인시장만의 즐길 거리다. 엽전으로 환전함과 동시에 검은색 플라스틱 식판도 받게 되는데 이때부터 식판을 들고 다니면서 시장 곳곳을 다니며 음식을 먹을 수 있다. 단, 엽전은 가맹점에서만 사용 가능하다.'"
      ]
     },
     "execution_count": 10,
     "metadata": {},
     "output_type": "execute_result"
    }
   ],
   "source": [
    "intro = sub_soup.select_one('.text-area').get_text().strip().replace(u'\\xa0', u' ')\n",
    "intro"
   ]
  },
  {
   "cell_type": "code",
   "execution_count": 11,
   "metadata": {
    "colab": {
     "base_uri": "https://localhost:8080/"
    },
    "id": "Xx0roLJCwwTF",
    "outputId": "15bf1b80-f2ec-4e25-f059-fa0b34b97cfb"
   },
   "outputs": [
    {
     "data": {
      "text/plain": [
       "7"
      ]
     },
     "execution_count": 11,
     "metadata": {},
     "output_type": "execute_result"
    }
   ],
   "source": [
    "dls = sub_soup.select('.detail-map-infor.first.border > dl')\n",
    "len(dls)"
   ]
  },
  {
   "cell_type": "code",
   "execution_count": 12,
   "metadata": {
    "colab": {
     "base_uri": "https://localhost:8080/"
    },
    "id": "reWjPFscxqTl",
    "outputId": "0a090c37-161b-4428-cf31-df9f378dcf54"
   },
   "outputs": [
    {
     "data": {
      "text/plain": [
       "{'전화번호': '02-722-0911',\n",
       " '웹사이트': 'https://tonginmarket.modoo.at/',\n",
       " '홈페이지 언어': '한국어',\n",
       " '이용시간': '통인시장 영업시간 : 07:00 ~ 21:00\\n※ 상점에 따라 상이하며, 정확한 개점, 폐점 시간은 없음\\n 도시락 카페 영업시간 화~금 11:00 ~ 16:00, 토~일 11:00 ~ 17:00 \\n※ 도시락 카페 엽전 판매는 평일 11:00 ~ 15:00, 주말 11:00 ~ 16:00까지',\n",
       " '휴무일': '통인시장 휴무일 : 매월 셋째주 일요일\\n도시락 카페 휴무일 : 매주 월요일, 매월 셋째주 일요일',\n",
       " '주소': '03036  서울 종로구 자하문로15길 18',\n",
       " '교통 정보': '3호선 경복궁역 2번 출구에서 약 515m (도보 8분)'}"
      ]
     },
     "execution_count": 12,
     "metadata": {},
     "output_type": "execute_result"
    }
   ],
   "source": [
    "info_dict = {}\n",
    "for dl in dls:\n",
    "    dt = dl.select_one('dt').text.strip()\n",
    "    dd = dl.select_one('dd').text.strip().replace(u'\\xa0', u' ').replace('\\r', '\\n')\n",
    "    if dd == '웹사이트 보기':\n",
    "        dd = dl.select_one('a')['href']\n",
    "    info_dict[dt] = dd\n",
    "info_dict"
   ]
  },
  {
   "cell_type": "code",
   "execution_count": 13,
   "metadata": {
    "colab": {
     "base_uri": "https://localhost:8080/"
    },
    "id": "gF790XRcyFMU",
    "outputId": "68739384-936f-4786-8f90-df6e398e8e2b"
   },
   "outputs": [
    {
     "data": {
      "text/plain": [
       "5"
      ]
     },
     "execution_count": 13,
     "metadata": {},
     "output_type": "execute_result"
    }
   ],
   "source": [
    "inner_divs = sub_soup.select('.trip-lst > li > div.inner')\n",
    "len(inner_divs)"
   ]
  },
  {
   "cell_type": "code",
   "execution_count": 14,
   "metadata": {
    "colab": {
     "base_uri": "https://localhost:8080/"
    },
    "id": "LhKDKvR0zwlt",
    "outputId": "a9548ef0-ff05-4285-f8f9-eadb73593f7f"
   },
   "outputs": [
    {
     "data": {
      "text/plain": [
       "[{'review': '생각보다 짧고 작은 시장입니다. 그러나 엽전은 정말 색다르고, 통인시장만의 색깔을 갖게 하는 좋은 아이디어인것 같습니다.\\n 시장분들도 판매하는것 좋지만 차가운 음식은 전자렌지 돌리라는 안내좀 해주셨으면ㅠㅠ',\n",
       "  'score': '4'},\n",
       " {'review': '시장에 장을 보러 간다기보다는 분위기를 느끼고 길거리음식들 사먹는 재미로 들러보면 좋을 것 같다\\n물건들을 사는 방식이 옛날 조선시대 스타일이어서 아이들이 함께가도 재밌을것 같아요',\n",
       "  'score': '3'},\n",
       " {'review': '북촌들려 경복궁 관람 후 서촌으로 넘어가서 통인시장마무리, 이 코스 나쁘지 않다. 통인시장은 엽전을 사고, 다니면서 원하는 음식을 도시락 용기에 담는다. 서서 먹어도 되지만 2층에 준비된 공간도 있다. 음식맛 최고인데 겨울에는 음식을 만드는 곳 앞에서 바로 먹는것을 추천한다. 담아서 다니다 보면 일찍 식어버려서 맛이 떨어진다. 주말에는 너무 복잡하고...',\n",
       "  'score': '4'},\n",
       " {'review': '엽전을 이용한 도시락을 먹을 수 있어서 색다른 추억을 만들 수 있습니다. 기름떡볶이, 떡갈비 등 다양한 음식을 즐길 수 있어요. 다만 대체적으로 기름지거나 튀긴 음식이 많아요',\n",
       "  'score': '3'},\n",
       " {'review': '종로 쪽 좋아해서 자주 다니는데, 주로 북촌만 가다가 서촌쪽에서 이곳에 처음 갔을 때 떡갈비의 맛에 반해버렸습니다. 그래서 저거 먹고싶어서라도 가요. 떡볶이떡같은 떡에 고기를 입혀서 구워주시는 느낌이에요. 아 물론 다른 가게들도 맛있습니다. 도시락카페 좋은 것 같아요',\n",
       "  'score': '4'}]"
      ]
     },
     "execution_count": 14,
     "metadata": {},
     "output_type": "execute_result"
    }
   ],
   "source": [
    "reviews = []\n",
    "for inner_div in inner_divs:\n",
    "    review = inner_div.select_one('dd').text.strip()\n",
    "    score = inner_div.select_one('div.group-01 > img.trip-02')['alt'].split(':')[1]\n",
    "    row = {'review': review, 'score': score}\n",
    "    reviews.append(row)\n",
    "reviews"
   ]
  },
  {
   "cell_type": "markdown",
   "metadata": {
    "id": "YTErjBIy4tRs"
   },
   "source": [
    "- 한 페이지 내에 있는 정보 추출"
   ]
  },
  {
   "cell_type": "code",
   "execution_count": 15,
   "metadata": {
    "id": "phhRz2J41rDN"
   },
   "outputs": [],
   "source": [
    "lines = []\n",
    "for li in lis:\n",
    "    href = li.select_one('a')['href']\n",
    "    img_src = li.select_one('.thumb > img')['src']\n",
    "    sub_url = f'{base_url}{href}'\n",
    "    sub_res = requests.get(sub_url)\n",
    "    sub_soup = BeautifulSoup(sub_res.text, 'html.parser')\n",
    "\n",
    "    name = sub_soup.select_one('.h3.textcenter').text.strip()\n",
    "    intro = sub_soup.select_one('.text-area').get_text().strip().replace(u'\\xa0', u' ')\n",
    "    dls = sub_soup.select('.detail-map-infor.first.border > dl')\n",
    "    info_dict = {}\n",
    "    for dl in dls:\n",
    "        dt = dl.select_one('dt').text.strip()\n",
    "        dd = dl.select_one('dd').text.strip().replace(u'\\xa0', u' ').replace('\\r', '\\n')\n",
    "        if dd == '웹사이트 보기':\n",
    "            dd = dl.select_one('a')['href']\n",
    "        info_dict[dt] = dd\n",
    "\n",
    "    inner_divs = sub_soup.select('.trip-lst > li > div.inner')\n",
    "    reviews = []\n",
    "    for inner_div in inner_divs:\n",
    "        review = inner_div.select_one('dd').text.strip()\n",
    "        score = inner_div.select_one('div.group-01 > img.trip-02')['alt'].split(':')[1]\n",
    "        row = {'review': review, 'score': score}\n",
    "        reviews.append(row)\n",
    "\n",
    "    lines.append({'상호': name, 'img_src': f'{base_url}{img_src}', '설명': intro, '업소정보': json.dumps(info_dict), '리뷰': json.dumps(reviews)})"
   ]
  },
  {
   "cell_type": "code",
   "execution_count": 16,
   "metadata": {
    "colab": {
     "base_uri": "https://localhost:8080/",
     "height": 293
    },
    "id": "vxyR_v6Z5spt",
    "outputId": "9eabe6e5-2352-41d6-dbb4-f43d045d5dc2"
   },
   "outputs": [
    {
     "data": {
      "text/html": [
       "<div>\n",
       "<style scoped>\n",
       "    .dataframe tbody tr th:only-of-type {\n",
       "        vertical-align: middle;\n",
       "    }\n",
       "\n",
       "    .dataframe tbody tr th {\n",
       "        vertical-align: top;\n",
       "    }\n",
       "\n",
       "    .dataframe thead th {\n",
       "        text-align: right;\n",
       "    }\n",
       "</style>\n",
       "<table border=\"1\" class=\"dataframe\">\n",
       "  <thead>\n",
       "    <tr style=\"text-align: right;\">\n",
       "      <th></th>\n",
       "      <th>상호</th>\n",
       "      <th>img_src</th>\n",
       "      <th>설명</th>\n",
       "      <th>업소정보</th>\n",
       "      <th>리뷰</th>\n",
       "    </tr>\n",
       "  </thead>\n",
       "  <tbody>\n",
       "    <tr>\n",
       "      <th>0</th>\n",
       "      <td>통인시장</td>\n",
       "      <td>https://korean.visitseoul.net/data/MEDIA/20240...</td>\n",
       "      <td>세종마을은 추사 김정희 등 조선시대 예능인들이 모이는 중심지였으며 근대에도 이상 등...</td>\n",
       "      <td>{\"\\uc804\\ud654\\ubc88\\ud638\": \"02-722-0911\", \"\\...</td>\n",
       "      <td>[{\"review\": \"\\uc0dd\\uac01\\ubcf4\\ub2e4 \\uc9e7\\u...</td>\n",
       "    </tr>\n",
       "    <tr>\n",
       "      <th>1</th>\n",
       "      <td>두레한식당</td>\n",
       "      <td>https://korean.visitseoul.net/data/POST/201612...</td>\n",
       "      <td>60여 년 전 경남 밀양에서 개업한 이래, 인사동에서 2대에 걸쳐 명맥을 이어온 유...</td>\n",
       "      <td>{\"\\uc804\\ud654\\ubc88\\ud638\": \"02-3213-2638\", \"...</td>\n",
       "      <td>[]</td>\n",
       "    </tr>\n",
       "    <tr>\n",
       "      <th>2</th>\n",
       "      <td>카몽(KAMONG)</td>\n",
       "      <td>https://korean.visitseoul.net/data/POST/201612...</td>\n",
       "      <td>엑소의 멤버 ‘카이가 꿈을 꾸다’라는 뜻을 가진 카페 카몽은 카이의 누나가 운영하고...</td>\n",
       "      <td>{\"\\uc804\\ud654\\ubc88\\ud638\": \"0507-1498-5951\",...</td>\n",
       "      <td>[]</td>\n",
       "    </tr>\n",
       "    <tr>\n",
       "      <th>3</th>\n",
       "      <td>놀부유황오리진흙구이(잠실점)</td>\n",
       "      <td>https://korean.visitseoul.net/data/POST/201601...</td>\n",
       "      <td>보약을 다리는 정성으로 구워내는 유황오리. 유황오리 진흙구이는 황토진흙으로 만든 토...</td>\n",
       "      <td>{\"\\uc804\\ud654\\ubc88\\ud638\": \"0507-1383-5292\",...</td>\n",
       "      <td>[{\"review\": \"\\uc624\\ub9ac\\uad6c\\uc774\\ub294 \\u...</td>\n",
       "    </tr>\n",
       "    <tr>\n",
       "      <th>4</th>\n",
       "      <td>클럽 NB2</td>\n",
       "      <td>https://korean.visitseoul.net/data/MEDIA/20241...</td>\n",
       "      <td>강남역 거리 및 홍대 클럽 거리에 위치한 대형 힙합댄스 클럽이다. ’99년 말 홍대...</td>\n",
       "      <td>{\"\\uc804\\ud654\\ubc88\\ud638\": \"0507-1323-8213\",...</td>\n",
       "      <td>[{\"review\": \"\\uc194\\uc9c1\\ud788 \\uc881\\uc9c0\\u...</td>\n",
       "    </tr>\n",
       "  </tbody>\n",
       "</table>\n",
       "</div>"
      ],
      "text/plain": [
       "                상호                                            img_src  \\\n",
       "0             통인시장  https://korean.visitseoul.net/data/MEDIA/20240...   \n",
       "1            두레한식당  https://korean.visitseoul.net/data/POST/201612...   \n",
       "2       카몽(KAMONG)  https://korean.visitseoul.net/data/POST/201612...   \n",
       "3  놀부유황오리진흙구이(잠실점)  https://korean.visitseoul.net/data/POST/201601...   \n",
       "4           클럽 NB2  https://korean.visitseoul.net/data/MEDIA/20241...   \n",
       "\n",
       "                                                  설명  \\\n",
       "0  세종마을은 추사 김정희 등 조선시대 예능인들이 모이는 중심지였으며 근대에도 이상 등...   \n",
       "1  60여 년 전 경남 밀양에서 개업한 이래, 인사동에서 2대에 걸쳐 명맥을 이어온 유...   \n",
       "2  엑소의 멤버 ‘카이가 꿈을 꾸다’라는 뜻을 가진 카페 카몽은 카이의 누나가 운영하고...   \n",
       "3  보약을 다리는 정성으로 구워내는 유황오리. 유황오리 진흙구이는 황토진흙으로 만든 토...   \n",
       "4  강남역 거리 및 홍대 클럽 거리에 위치한 대형 힙합댄스 클럽이다. ’99년 말 홍대...   \n",
       "\n",
       "                                                업소정보  \\\n",
       "0  {\"\\uc804\\ud654\\ubc88\\ud638\": \"02-722-0911\", \"\\...   \n",
       "1  {\"\\uc804\\ud654\\ubc88\\ud638\": \"02-3213-2638\", \"...   \n",
       "2  {\"\\uc804\\ud654\\ubc88\\ud638\": \"0507-1498-5951\",...   \n",
       "3  {\"\\uc804\\ud654\\ubc88\\ud638\": \"0507-1383-5292\",...   \n",
       "4  {\"\\uc804\\ud654\\ubc88\\ud638\": \"0507-1323-8213\",...   \n",
       "\n",
       "                                                  리뷰  \n",
       "0  [{\"review\": \"\\uc0dd\\uac01\\ubcf4\\ub2e4 \\uc9e7\\u...  \n",
       "1                                                 []  \n",
       "2                                                 []  \n",
       "3  [{\"review\": \"\\uc624\\ub9ac\\uad6c\\uc774\\ub294 \\u...  \n",
       "4  [{\"review\": \"\\uc194\\uc9c1\\ud788 \\uc881\\uc9c0\\u...  "
      ]
     },
     "execution_count": 16,
     "metadata": {},
     "output_type": "execute_result"
    }
   ],
   "source": [
    "df = pd.DataFrame(lines)\n",
    "df.head()"
   ]
  },
  {
   "cell_type": "markdown",
   "metadata": {
    "id": "wfTOBQds6G3F"
   },
   "source": [
    "- 모든 페이지에 대해 적용"
   ]
  },
  {
   "cell_type": "code",
   "execution_count": 17,
   "metadata": {
    "colab": {
     "base_uri": "https://localhost:8080/",
     "height": 391
    },
    "id": "FPpx9-6H55VO",
    "outputId": "a9f7a229-133d-42c9-8e02-44bf0a570175"
   },
   "outputs": [
    {
     "name": "stderr",
     "output_type": "stream",
     "text": [
      "100%|██████████| 121/121 [13:39<00:00,  6.77s/it]\n"
     ]
    }
   ],
   "source": [
    "lines = []\n",
    "for page in tqdm(range(1, 122)):\n",
    "    url = f'{base_url}/restaurants?curPage={page}'\n",
    "    result = requests.get(url)\n",
    "    soup = BeautifulSoup(result.text, 'html.parser')\n",
    "    lis = soup.select('li.item')\n",
    "\n",
    "    for li in lis:\n",
    "        href = li.select_one('a')['href']\n",
    "        img_src = li.select_one('.thumb > img')['src']\n",
    "        sub_url = f'{base_url}{href}'\n",
    "        sub_res = requests.get(sub_url)\n",
    "        sub_soup = BeautifulSoup(sub_res.text, 'html.parser')\n",
    "\n",
    "        name = sub_soup.select_one('.h3.textcenter').text.strip()\n",
    "        intro = sub_soup.select_one('.text-area').get_text().strip().replace(u'\\xa0', u' ')\n",
    "        dls = sub_soup.select('.detail-map-infor.first.border > dl')\n",
    "        info_dict = {}\n",
    "        for dl in dls:\n",
    "            dt = dl.select_one('dt').text.strip()\n",
    "            dd = dl.select_one('dd').text.strip().replace(u'\\xa0', u' ').replace('\\r', '\\n')\n",
    "            if dd == '웹사이트 보기':\n",
    "                dd = dl.select_one('a')['href']\n",
    "            info_dict[dt] = dd\n",
    "\n",
    "        inner_divs = sub_soup.select('.trip-lst > li > div.inner')\n",
    "        reviews = []\n",
    "        for inner_div in inner_divs:\n",
    "            review = inner_div.select_one('dd').text.strip()\n",
    "            score = inner_div.select_one('div.group-01 > img.trip-02')['alt'].split(':')[1]\n",
    "            row = {'review': review, 'score': score}\n",
    "            reviews.append(row)\n",
    "\n",
    "        lines.append({'상호': name, 'img_src': f'{base_url}{img_src}', '설명': intro, '업소정보': json.dumps(info_dict), '리뷰': json.dumps(reviews)})"
   ]
  },
  {
   "cell_type": "code",
   "execution_count": 18,
   "metadata": {
    "id": "y-SpUIqk6va-"
   },
   "outputs": [],
   "source": [
    "df = pd.DataFrame(lines)\n",
    "df.to_csv('서울맛집3.csv', index=False)"
   ]
  }
 ],
 "metadata": {
  "colab": {
   "provenance": []
  },
  "kernelspec": {
   "display_name": "base",
   "language": "python",
   "name": "python3"
  },
  "language_info": {
   "codemirror_mode": {
    "name": "ipython",
    "version": 3
   },
   "file_extension": ".py",
   "mimetype": "text/x-python",
   "name": "python",
   "nbconvert_exporter": "python",
   "pygments_lexer": "ipython3",
   "version": "3.12.7"
  }
 },
 "nbformat": 4,
 "nbformat_minor": 0
}
